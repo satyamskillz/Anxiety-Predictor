{
 "cells": [
  {
   "cell_type": "code",
   "execution_count": 39,
   "metadata": {},
   "outputs": [],
   "source": [
    "from tensorflow.keras.preprocessing.image import ImageDataGenerator\n",
    "from tensorflow.keras.optimizers import RMSprop, Adam, SGD\n",
    "from tensorflow import keras\n",
    "import tensorflow as tf\n",
    "import numpy as np\n",
    "import cv2"
   ]
  },
  {
   "cell_type": "markdown",
   "metadata": {},
   "source": [
    "D:\\datasets\\brainimages\\train"
   ]
  },
  {
   "cell_type": "code",
   "execution_count": 2,
   "metadata": {},
   "outputs": [],
   "source": [
    "def build(h, w, d, classes=1):\n",
    "    model = keras.Sequential([\n",
    "        keras.layers.Conv2D(32, (5, 5), activation=\"relu\", padding=\"same\", input_shape=(h, w, d)),\n",
    "        keras.layers.MaxPool2D((2, 2)),\n",
    "\n",
    "        keras.layers.Conv2D(32, (3, 3),padding=\"same\", activation=\"relu\"),\n",
    "        keras.layers.BatchNormalization(axis=-1),\n",
    "        keras.layers.MaxPool2D((2, 2)),\n",
    "\n",
    "        # keras.layers.Conv2D(32, (5, 5), activation=\"relu\"),\n",
    "        # keras.layers.BatchNormalization(axis=-1),\n",
    "        # keras.layers.MaxPool2D((2, 2)),\n",
    "\n",
    "        keras.layers.Flatten(),\n",
    "        keras.layers.Dense(128, activation=\"relu\"),\n",
    "        keras.layers.Dropout(0.3),\n",
    "        keras.layers.Dense(32, activation=\"relu\"),\n",
    "        keras.layers.Dropout(0.3),\n",
    "        keras.layers.Dense(2, activation=\"sigmoid\"),\n",
    "    ])\n",
    "    return model"
   ]
  },
  {
   "cell_type": "code",
   "execution_count": 33,
   "metadata": {},
   "outputs": [],
   "source": [
    "train_path = \"D:\\datasets\\brainimages\\train\"\n",
    "BATCH_SIZE = 2\n",
    "NUM_EPOCH = 10\n",
    "EPOCH_PER_STEP = 4\n",
    "HEIGHT = 64\n",
    "WIDTH = 64\n",
    "DEPTH = 3\n",
    "classes = 2\n",
    "learn = 0.01"
   ]
  },
  {
   "cell_type": "code",
   "execution_count": 34,
   "metadata": {},
   "outputs": [
    {
     "name": "stdout",
     "output_type": "stream",
     "text": [
      "Data Generating...\n"
     ]
    }
   ],
   "source": [
    "print(\"Data Generating...\")\n",
    "train_datagen = ImageDataGenerator(rescale=1 / 255,\n",
    "                                   zoom_range=0.15, width_shift_range=0.2,\n",
    "                                   height_shift_range=0.2,\n",
    "                                   horizontal_flip=True,\n",
    "                                   fill_mode=\"nearest\")\n",
    "vaildation_datagen = ImageDataGenerator(rescale=1 / 255)"
   ]
  },
  {
   "cell_type": "code",
   "execution_count": 35,
   "metadata": {},
   "outputs": [
    {
     "name": "stdout",
     "output_type": "stream",
     "text": [
      "Data loading...\n",
      "Found 18 images belonging to 2 classes.\n"
     ]
    }
   ],
   "source": [
    "print(\"Data loading...\")\n",
    "train_generator = train_datagen.flow_from_directory(\n",
    "    'train',\n",
    "    target_size=(64, 64),\n",
    "    batch_size=BATCH_SIZE,\n",
    "    class_mode='binary')"
   ]
  },
  {
   "cell_type": "code",
   "execution_count": 36,
   "metadata": {},
   "outputs": [
    {
     "name": "stdout",
     "output_type": "stream",
     "text": [
      "Model Building...\n"
     ]
    }
   ],
   "source": [
    "print(\"Model Building...\")\n",
    "model = build(HEIGHT, WIDTH, DEPTH, classes)"
   ]
  },
  {
   "cell_type": "code",
   "execution_count": 37,
   "metadata": {},
   "outputs": [
    {
     "name": "stdout",
     "output_type": "stream",
     "text": [
      "Compling.....\n"
     ]
    }
   ],
   "source": [
    "print(\"Compling.....\")\n",
    "model.compile(loss='binary_crossentropy',\n",
    "              optimizer=\"adam\",\n",
    "              metrics=[\"accuracy\"])"
   ]
  },
  {
   "cell_type": "code",
   "execution_count": null,
   "metadata": {},
   "outputs": [],
   "source": [
    "print(\"Traning Started...\")\n",
    "history = model.fit(\n",
    "    train_generator,\n",
    "    steps_per_epoch=EPOCH_PER_STEP,\n",
    "    epochs=NUM_EPOCH,\n",
    "    verbose=1)"
   ]
  },
  {
   "cell_type": "code",
   "execution_count": null,
   "metadata": {},
   "outputs": [],
   "source": [
    "print(\"Saving Model...\")\n",
    "model.save(\"model1.h5\")\n",
    "\n",
    "print(\"Program Done!\")"
   ]
  }
 ],
 "metadata": {
  "kernelspec": {
   "display_name": "Python 3",
   "language": "python",
   "name": "python3"
  },
  "language_info": {
   "codemirror_mode": {
    "name": "ipython",
    "version": 3
   },
   "file_extension": ".py",
   "mimetype": "text/x-python",
   "name": "python",
   "nbconvert_exporter": "python",
   "pygments_lexer": "ipython3",
   "version": "3.7.7"
  }
 },
 "nbformat": 4,
 "nbformat_minor": 4
}
